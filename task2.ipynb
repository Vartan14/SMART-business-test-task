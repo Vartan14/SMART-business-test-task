{
 "cells": [
  {
   "metadata": {},
   "cell_type": "markdown",
   "source": [
    "Задача 2: Аналіз семантики товарів\n",
    "Мета: Розробити систему для визначення емоційного відтінку та\n",
    "виявлення цін у текстових коментарях.\n",
    "Опис:\n",
    "1. У нашій базі є інформація про числові оцінки товару з текстовим\n",
    "коментарем. Потрібно створити алгоритм, який буде здатен\n",
    "класифікувати коментар за емоційним забарвленням на\n",
    "позитивний/негативний чи нейтральний.\n",
    "2. Розробити підхід, який буде знаходити числове значення ціни з\n",
    "будь якого коментаря. Ціни можуть бути зазначені у місцевій валюті\n",
    "або доларах США"
   ],
   "id": "268f0551e570ff15"
  },
  {
   "metadata": {
    "ExecuteTime": {
     "end_time": "2024-07-10T18:33:12.535701Z",
     "start_time": "2024-07-10T18:33:12.531346Z"
    }
   },
   "cell_type": "code",
   "source": [
    "import pandas as pd\n",
    "import matplotlib.pyplot as plt\n",
    "import seaborn as sns"
   ],
   "id": "820e441296feda7a",
   "outputs": [],
   "execution_count": 318
  },
  {
   "metadata": {},
   "cell_type": "markdown",
   "source": "Аналіз даних",
   "id": "84dab3064505ea5d"
  },
  {
   "metadata": {
    "ExecuteTime": {
     "end_time": "2024-07-10T18:33:13.029556Z",
     "start_time": "2024-07-10T18:33:12.658328Z"
    }
   },
   "cell_type": "code",
   "source": "order_reviews = pd.read_csv('S_Data/order_reviews.csv')",
   "id": "3115fc609496b0dd",
   "outputs": [],
   "execution_count": 319
  },
  {
   "metadata": {
    "ExecuteTime": {
     "end_time": "2024-07-10T18:33:13.046203Z",
     "start_time": "2024-07-10T18:33:13.029556Z"
    }
   },
   "cell_type": "code",
   "source": "order_reviews",
   "id": "348a309d062aa6de",
   "outputs": [
    {
     "data": {
      "text/plain": [
       "                              review_id                          order_id  \\\n",
       "0      7bc2406110b926393aa56f80a40eba40  73fc7af87114b39712e6da79b0a377eb   \n",
       "1      80e641a11e56f04c1ad469d5645fdfde  a548910a1c6147796b98fdf73dbeba33   \n",
       "2      228ce5500dc1d8e020d8d1322874b6f0  f9e4b658b201a9f2ecdecbb34bed034b   \n",
       "3      e64fb393e7b32834bb789ff8bb30750e  658677c97b385a9be170737859d3511b   \n",
       "4      f7c4243c7fe1938f181bec41a392bdeb  8e6bfb81e283fa7e4f11123a3fb894f1   \n",
       "...                                 ...                               ...   \n",
       "99995  f3897127253a9592a73be9bdfdf4ed7a  22ec9f0669f784db00fa86d035cf8602   \n",
       "99996  b3de70c89b1510c4cd3d0649fd302472  55d4004744368f5571d1f590031933e4   \n",
       "99997  1adeb9d84d72fe4e337617733eb85149  7725825d039fc1f0ceb7635e3f7d9206   \n",
       "99998  be360f18f5df1e0541061c87021e6d93  f8bd3f2000c28c5342fedeb5e50f2e75   \n",
       "99999  efe49f1d6f951dd88b51e6ccd4cc548f  90531360ecb1eec2a1fbb265a0db0508   \n",
       "\n",
       "       review_score review_comment_title  \\\n",
       "0                 4                  NaN   \n",
       "1                 5                  NaN   \n",
       "2                 5                  NaN   \n",
       "3                 5                  NaN   \n",
       "4                 5                  NaN   \n",
       "...             ...                  ...   \n",
       "99995             5                  NaN   \n",
       "99996             5                  NaN   \n",
       "99997             4                  NaN   \n",
       "99998             1                  NaN   \n",
       "99999             1                  NaN   \n",
       "\n",
       "                                  review_comment_message review_creation_date  \\\n",
       "0                                                    NaN  2018-01-18 00:00:00   \n",
       "1                                                    NaN  2018-03-10 00:00:00   \n",
       "2                                                    NaN  2018-02-17 00:00:00   \n",
       "3                  Recebi bem antes do prazo estipulado.  2017-04-21 00:00:00   \n",
       "4      Parabéns lojas lannister adorei comprar pela I...  2018-03-01 00:00:00   \n",
       "...                                                  ...                  ...   \n",
       "99995                                                NaN  2017-12-09 00:00:00   \n",
       "99996  Excelente mochila, entrega super rápida. Super...  2018-03-22 00:00:00   \n",
       "99997                                                NaN  2018-07-01 00:00:00   \n",
       "99998  Solicitei a compra de uma capa de retrovisor c...  2017-12-15 00:00:00   \n",
       "99999  meu produto chegou e ja tenho que devolver, po...  2017-07-03 00:00:00   \n",
       "\n",
       "      review_answer_timestamp  \n",
       "0         2018-01-18 21:46:59  \n",
       "1         2018-03-11 03:05:13  \n",
       "2         2018-02-18 14:36:24  \n",
       "3         2017-04-21 22:02:06  \n",
       "4         2018-03-02 10:26:53  \n",
       "...                       ...  \n",
       "99995     2017-12-11 20:06:42  \n",
       "99996     2018-03-23 09:10:43  \n",
       "99997     2018-07-02 12:59:13  \n",
       "99998     2017-12-16 01:29:43  \n",
       "99999     2017-07-03 21:01:49  \n",
       "\n",
       "[100000 rows x 7 columns]"
      ],
      "text/html": [
       "<div>\n",
       "<style scoped>\n",
       "    .dataframe tbody tr th:only-of-type {\n",
       "        vertical-align: middle;\n",
       "    }\n",
       "\n",
       "    .dataframe tbody tr th {\n",
       "        vertical-align: top;\n",
       "    }\n",
       "\n",
       "    .dataframe thead th {\n",
       "        text-align: right;\n",
       "    }\n",
       "</style>\n",
       "<table border=\"1\" class=\"dataframe\">\n",
       "  <thead>\n",
       "    <tr style=\"text-align: right;\">\n",
       "      <th></th>\n",
       "      <th>review_id</th>\n",
       "      <th>order_id</th>\n",
       "      <th>review_score</th>\n",
       "      <th>review_comment_title</th>\n",
       "      <th>review_comment_message</th>\n",
       "      <th>review_creation_date</th>\n",
       "      <th>review_answer_timestamp</th>\n",
       "    </tr>\n",
       "  </thead>\n",
       "  <tbody>\n",
       "    <tr>\n",
       "      <th>0</th>\n",
       "      <td>7bc2406110b926393aa56f80a40eba40</td>\n",
       "      <td>73fc7af87114b39712e6da79b0a377eb</td>\n",
       "      <td>4</td>\n",
       "      <td>NaN</td>\n",
       "      <td>NaN</td>\n",
       "      <td>2018-01-18 00:00:00</td>\n",
       "      <td>2018-01-18 21:46:59</td>\n",
       "    </tr>\n",
       "    <tr>\n",
       "      <th>1</th>\n",
       "      <td>80e641a11e56f04c1ad469d5645fdfde</td>\n",
       "      <td>a548910a1c6147796b98fdf73dbeba33</td>\n",
       "      <td>5</td>\n",
       "      <td>NaN</td>\n",
       "      <td>NaN</td>\n",
       "      <td>2018-03-10 00:00:00</td>\n",
       "      <td>2018-03-11 03:05:13</td>\n",
       "    </tr>\n",
       "    <tr>\n",
       "      <th>2</th>\n",
       "      <td>228ce5500dc1d8e020d8d1322874b6f0</td>\n",
       "      <td>f9e4b658b201a9f2ecdecbb34bed034b</td>\n",
       "      <td>5</td>\n",
       "      <td>NaN</td>\n",
       "      <td>NaN</td>\n",
       "      <td>2018-02-17 00:00:00</td>\n",
       "      <td>2018-02-18 14:36:24</td>\n",
       "    </tr>\n",
       "    <tr>\n",
       "      <th>3</th>\n",
       "      <td>e64fb393e7b32834bb789ff8bb30750e</td>\n",
       "      <td>658677c97b385a9be170737859d3511b</td>\n",
       "      <td>5</td>\n",
       "      <td>NaN</td>\n",
       "      <td>Recebi bem antes do prazo estipulado.</td>\n",
       "      <td>2017-04-21 00:00:00</td>\n",
       "      <td>2017-04-21 22:02:06</td>\n",
       "    </tr>\n",
       "    <tr>\n",
       "      <th>4</th>\n",
       "      <td>f7c4243c7fe1938f181bec41a392bdeb</td>\n",
       "      <td>8e6bfb81e283fa7e4f11123a3fb894f1</td>\n",
       "      <td>5</td>\n",
       "      <td>NaN</td>\n",
       "      <td>Parabéns lojas lannister adorei comprar pela I...</td>\n",
       "      <td>2018-03-01 00:00:00</td>\n",
       "      <td>2018-03-02 10:26:53</td>\n",
       "    </tr>\n",
       "    <tr>\n",
       "      <th>...</th>\n",
       "      <td>...</td>\n",
       "      <td>...</td>\n",
       "      <td>...</td>\n",
       "      <td>...</td>\n",
       "      <td>...</td>\n",
       "      <td>...</td>\n",
       "      <td>...</td>\n",
       "    </tr>\n",
       "    <tr>\n",
       "      <th>99995</th>\n",
       "      <td>f3897127253a9592a73be9bdfdf4ed7a</td>\n",
       "      <td>22ec9f0669f784db00fa86d035cf8602</td>\n",
       "      <td>5</td>\n",
       "      <td>NaN</td>\n",
       "      <td>NaN</td>\n",
       "      <td>2017-12-09 00:00:00</td>\n",
       "      <td>2017-12-11 20:06:42</td>\n",
       "    </tr>\n",
       "    <tr>\n",
       "      <th>99996</th>\n",
       "      <td>b3de70c89b1510c4cd3d0649fd302472</td>\n",
       "      <td>55d4004744368f5571d1f590031933e4</td>\n",
       "      <td>5</td>\n",
       "      <td>NaN</td>\n",
       "      <td>Excelente mochila, entrega super rápida. Super...</td>\n",
       "      <td>2018-03-22 00:00:00</td>\n",
       "      <td>2018-03-23 09:10:43</td>\n",
       "    </tr>\n",
       "    <tr>\n",
       "      <th>99997</th>\n",
       "      <td>1adeb9d84d72fe4e337617733eb85149</td>\n",
       "      <td>7725825d039fc1f0ceb7635e3f7d9206</td>\n",
       "      <td>4</td>\n",
       "      <td>NaN</td>\n",
       "      <td>NaN</td>\n",
       "      <td>2018-07-01 00:00:00</td>\n",
       "      <td>2018-07-02 12:59:13</td>\n",
       "    </tr>\n",
       "    <tr>\n",
       "      <th>99998</th>\n",
       "      <td>be360f18f5df1e0541061c87021e6d93</td>\n",
       "      <td>f8bd3f2000c28c5342fedeb5e50f2e75</td>\n",
       "      <td>1</td>\n",
       "      <td>NaN</td>\n",
       "      <td>Solicitei a compra de uma capa de retrovisor c...</td>\n",
       "      <td>2017-12-15 00:00:00</td>\n",
       "      <td>2017-12-16 01:29:43</td>\n",
       "    </tr>\n",
       "    <tr>\n",
       "      <th>99999</th>\n",
       "      <td>efe49f1d6f951dd88b51e6ccd4cc548f</td>\n",
       "      <td>90531360ecb1eec2a1fbb265a0db0508</td>\n",
       "      <td>1</td>\n",
       "      <td>NaN</td>\n",
       "      <td>meu produto chegou e ja tenho que devolver, po...</td>\n",
       "      <td>2017-07-03 00:00:00</td>\n",
       "      <td>2017-07-03 21:01:49</td>\n",
       "    </tr>\n",
       "  </tbody>\n",
       "</table>\n",
       "<p>100000 rows × 7 columns</p>\n",
       "</div>"
      ]
     },
     "execution_count": 320,
     "metadata": {},
     "output_type": "execute_result"
    }
   ],
   "execution_count": 320
  },
  {
   "metadata": {
    "ExecuteTime": {
     "end_time": "2024-07-10T18:33:13.051681Z",
     "start_time": "2024-07-10T18:33:13.046203Z"
    }
   },
   "cell_type": "code",
   "source": [
    "order_reviews.rename(columns={'review_comment_title': 'title',\n",
    "                              'review_comment_message': 'comment',\n",
    "                              'review_creation_date': 'creation_date'}, inplace=True)"
   ],
   "id": "53961957055e54ef",
   "outputs": [],
   "execution_count": 321
  },
  {
   "metadata": {
    "ExecuteTime": {
     "end_time": "2024-07-10T18:33:13.140742Z",
     "start_time": "2024-07-10T18:33:13.052697Z"
    }
   },
   "cell_type": "code",
   "source": [
    "plt.figure(figsize=(8, 8))\n",
    "order_reviews['review_score'].value_counts().plot(kind='pie', autopct='%1.1f%%', colors=['lightgreen', 'orange', 'skyblue', 'salmon', 'grey'])\n",
    "plt.title('Review scores')\n",
    "plt.ylabel('')\n",
    "plt.show()"
   ],
   "id": "649c81298109bd97",
   "outputs": [
    {
     "data": {
      "text/plain": [
       "<Figure size 800x800 with 1 Axes>"
      ],
      "image/png": "[encoded data removed]"
     },
     "metadata": {},
     "output_type": "display_data"
    }
   ],
   "execution_count": 322
  },
  {
   "metadata": {
    "ExecuteTime": {
     "end_time": "2024-07-10T18:33:13.165428Z",
     "start_time": "2024-07-10T18:33:13.140742Z"
    }
   },
   "cell_type": "code",
   "source": [
    "order_reviews['creation_date'] = pd.to_datetime(order_reviews['creation_date'])\n",
    "order_reviews['month'] = order_reviews['creation_date'].dt.month"
   ],
   "id": "3da67cff9bdae85e",
   "outputs": [],
   "execution_count": 323
  },
  {
   "metadata": {
    "ExecuteTime": {
     "end_time": "2024-07-10T18:33:13.545767Z",
     "start_time": "2024-07-10T18:33:13.165428Z"
    }
   },
   "cell_type": "code",
   "source": [
    "plt.figure(figsize=(10, 6))\n",
    "sns.countplot(x='month', data=order_reviews)\n",
    "plt.title('Reviews by month')\n",
    "plt.xlabel('Month')\n",
    "plt.ylabel('Count')\n",
    "plt.show()"
   ],
   "id": "d5928d3ca3cb4c3b",
   "outputs": [
    {
     "data": {
      "text/plain": [
       "<Figure size 1000x600 with 1 Axes>"
      ],
      "image/png": "[encoded data removed]"
     },
     "metadata": {},
     "output_type": "display_data"
    }
   ],
   "execution_count": 324
  },
  {
   "metadata": {
    "ExecuteTime": {
     "end_time": "2024-07-10T18:33:13.568895Z",
     "start_time": "2024-07-10T18:33:13.545767Z"
    }
   },
   "cell_type": "code",
   "source": [
    "order_reviews['title'] = order_reviews['title'].str.lower().str.strip()\n",
    "\n",
    "order_reviews['title'].value_counts()"
   ],
   "id": "b6bf394e74efee19",
   "outputs": [
    {
     "data": {
      "text/plain": [
       "title\n",
       "recomendo              914\n",
       "super recomendo        607\n",
       "ótimo                  497\n",
       "bom                    472\n",
       "excelente              430\n",
       "                      ... \n",
       "nao recebi certo         1\n",
       "lm 327                   1\n",
       "compraria novamente      1\n",
       "irritante                1\n",
       "foto enganosa            1\n",
       "Name: count, Length: 3740, dtype: int64"
      ]
     },
     "execution_count": 325,
     "metadata": {},
     "output_type": "execute_result"
    }
   ],
   "execution_count": 325
  },
  {
   "metadata": {
    "ExecuteTime": {
     "end_time": "2024-07-10T18:33:13.797470Z",
     "start_time": "2024-07-10T18:33:13.568895Z"
    }
   },
   "cell_type": "code",
   "source": [
    "# Отримання топ-10 заголовків \n",
    "top_10_titles = order_reviews['title'].value_counts().nlargest(10)\n",
    "\n",
    "plt.figure(figsize=(12, 6))\n",
    "top_10_titles.plot(kind='bar', color='skyblue')\n",
    "plt.title('Top 10 titles')\n",
    "plt.xlabel('Title')\n",
    "plt.ylabel('Count')\n",
    "plt.xticks(rotation=45, ha='right')\n",
    "plt.tight_layout()\n",
    "plt.show()"
   ],
   "id": "c27a4b65dc8b9806",
   "outputs": [
    {
     "data": {
      "text/plain": [
       "<Figure size 1200x600 with 1 Axes>"
      ],
      "image/png": "[encoded data removed]"
     },
     "metadata": {},
     "output_type": "display_data"
    }
   ],
   "execution_count": 326
  },
  {
   "metadata": {},
   "cell_type": "markdown",
   "source": "Попередня обробка тексту",
   "id": "2fe77091cb335a0c"
  },
  {
   "metadata": {
    "ExecuteTime": {
     "end_time": "2024-07-10T18:33:13.876483Z",
     "start_time": "2024-07-10T18:33:13.797470Z"
    }
   },
   "cell_type": "code",
   "source": [
    "# Видаляємо рядки без коментарів\n",
    "cleaned_reviews = order_reviews.dropna(subset=['comment'], inplace=False).copy()\n",
    "\n",
    "cleaned_reviews"
   ],
   "id": "e3b114187b1b4207",
   "outputs": [
    {
     "data": {
      "text/plain": [
       "                              review_id                          order_id  \\\n",
       "3      e64fb393e7b32834bb789ff8bb30750e  658677c97b385a9be170737859d3511b   \n",
       "4      f7c4243c7fe1938f181bec41a392bdeb  8e6bfb81e283fa7e4f11123a3fb894f1   \n",
       "9      8670d52e15e00043ae7de4c01cc2fe06  b9bf720beb4ab3728760088589c62129   \n",
       "12     4b49719c8a200003f700d3d986ea1a19  9d6f15f95d01e79bd1349cc208361f09   \n",
       "15     3948b09f7c818e2d86c9a546758b2335  e51478e7e277a83743b6f9991dbfa3fb   \n",
       "...                                 ...                               ...   \n",
       "99983  df5fae90e85354241d5d64a8955b2b09  509b86c65fe4e2ad5b96408cfef9755e   \n",
       "99990  a709d176f59bc3af77f4149c96bae357  d5cb12269711bd1eaf7eed8fd32a7c95   \n",
       "99996  b3de70c89b1510c4cd3d0649fd302472  55d4004744368f5571d1f590031933e4   \n",
       "99998  be360f18f5df1e0541061c87021e6d93  f8bd3f2000c28c5342fedeb5e50f2e75   \n",
       "99999  efe49f1d6f951dd88b51e6ccd4cc548f  90531360ecb1eec2a1fbb265a0db0508   \n",
       "\n",
       "       review_score            title  \\\n",
       "3                 5              NaN   \n",
       "4                 5              NaN   \n",
       "9                 4        recomendo   \n",
       "12                4              NaN   \n",
       "15                5  super recomendo   \n",
       "...             ...              ...   \n",
       "99983             5              NaN   \n",
       "99990             3              NaN   \n",
       "99996             5              NaN   \n",
       "99998             1              NaN   \n",
       "99999             1              NaN   \n",
       "\n",
       "                                                 comment creation_date  \\\n",
       "3                  Recebi bem antes do prazo estipulado.    2017-04-21   \n",
       "4      Parabéns lojas lannister adorei comprar pela I...    2018-03-01   \n",
       "9      aparelho eficiente. no site a marca do aparelh...    2018-05-22   \n",
       "12       Mas um pouco ,travando...pelo valor ta Boa.\\r\\n    2018-02-16   \n",
       "15     Vendedor confiável, produto ok e entrega antes...    2018-05-23   \n",
       "...                                                  ...           ...   \n",
       "99983  Entregou dentro do prazo. O produto chegou em ...    2018-02-07   \n",
       "99990  O produto não foi enviado com NF, não existe v...    2018-05-19   \n",
       "99996  Excelente mochila, entrega super rápida. Super...    2018-03-22   \n",
       "99998  Solicitei a compra de uma capa de retrovisor c...    2017-12-15   \n",
       "99999  meu produto chegou e ja tenho que devolver, po...    2017-07-03   \n",
       "\n",
       "      review_answer_timestamp  month  \n",
       "3         2017-04-21 22:02:06      4  \n",
       "4         2018-03-02 10:26:53      3  \n",
       "9         2018-05-23 16:45:47      5  \n",
       "12        2018-02-20 10:52:22      2  \n",
       "15        2018-05-24 03:00:01      5  \n",
       "...                       ...    ...  \n",
       "99983     2018-02-19 19:47:23      2  \n",
       "99990     2018-05-20 21:51:06      5  \n",
       "99996     2018-03-23 09:10:43      3  \n",
       "99998     2017-12-16 01:29:43     12  \n",
       "99999     2017-07-03 21:01:49      7  \n",
       "\n",
       "[41753 rows x 8 columns]"
      ],
      "text/html": [
       "<div>\n",
       "<style scoped>\n",
       "    .dataframe tbody tr th:only-of-type {\n",
       "        vertical-align: middle;\n",
       "    }\n",
       "\n",
       "    .dataframe tbody tr th {\n",
       "        vertical-align: top;\n",
       "    }\n",
       "\n",
       "    .dataframe thead th {\n",
       "        text-align: right;\n",
       "    }\n",
       "</style>\n",
       "<table border=\"1\" class=\"dataframe\">\n",
       "  <thead>\n",
       "    <tr style=\"text-align: right;\">\n",
       "      <th></th>\n",
       "      <th>review_id</th>\n",
       "      <th>order_id</th>\n",
       "      <th>review_score</th>\n",
       "      <th>title</th>\n",
       "      <th>comment</th>\n",
       "      <th>creation_date</th>\n",
       "      <th>review_answer_timestamp</th>\n",
       "      <th>month</th>\n",
       "    </tr>\n",
       "  </thead>\n",
       "  <tbody>\n",
       "    <tr>\n",
       "      <th>3</th>\n",
       "      <td>e64fb393e7b32834bb789ff8bb30750e</td>\n",
       "      <td>658677c97b385a9be170737859d3511b</td>\n",
       "      <td>5</td>\n",
       "      <td>NaN</td>\n",
       "      <td>Recebi bem antes do prazo estipulado.</td>\n",
       "      <td>2017-04-21</td>\n",
       "      <td>2017-04-21 22:02:06</td>\n",
       "      <td>4</td>\n",
       "    </tr>\n",
       "    <tr>\n",
       "      <th>4</th>\n",
       "      <td>f7c4243c7fe1938f181bec41a392bdeb</td>\n",
       "      <td>8e6bfb81e283fa7e4f11123a3fb894f1</td>\n",
       "      <td>5</td>\n",
       "      <td>NaN</td>\n",
       "      <td>Parabéns lojas lannister adorei comprar pela I...</td>\n",
       "      <td>2018-03-01</td>\n",
       "      <td>2018-03-02 10:26:53</td>\n",
       "      <td>3</td>\n",
       "    </tr>\n",
       "    <tr>\n",
       "      <th>9</th>\n",
       "      <td>8670d52e15e00043ae7de4c01cc2fe06</td>\n",
       "      <td>b9bf720beb4ab3728760088589c62129</td>\n",
       "      <td>4</td>\n",
       "      <td>recomendo</td>\n",
       "      <td>aparelho eficiente. no site a marca do aparelh...</td>\n",
       "      <td>2018-05-22</td>\n",
       "      <td>2018-05-23 16:45:47</td>\n",
       "      <td>5</td>\n",
       "    </tr>\n",
       "    <tr>\n",
       "      <th>12</th>\n",
       "      <td>4b49719c8a200003f700d3d986ea1a19</td>\n",
       "      <td>9d6f15f95d01e79bd1349cc208361f09</td>\n",
       "      <td>4</td>\n",
       "      <td>NaN</td>\n",
       "      <td>Mas um pouco ,travando...pelo valor ta Boa.\\r\\n</td>\n",
       "      <td>2018-02-16</td>\n",
       "      <td>2018-02-20 10:52:22</td>\n",
       "      <td>2</td>\n",
       "    </tr>\n",
       "    <tr>\n",
       "      <th>15</th>\n",
       "      <td>3948b09f7c818e2d86c9a546758b2335</td>\n",
       "      <td>e51478e7e277a83743b6f9991dbfa3fb</td>\n",
       "      <td>5</td>\n",
       "      <td>super recomendo</td>\n",
       "      <td>Vendedor confiável, produto ok e entrega antes...</td>\n",
       "      <td>2018-05-23</td>\n",
       "      <td>2018-05-24 03:00:01</td>\n",
       "      <td>5</td>\n",
       "    </tr>\n",
       "    <tr>\n",
       "      <th>...</th>\n",
       "      <td>...</td>\n",
       "      <td>...</td>\n",
       "      <td>...</td>\n",
       "      <td>...</td>\n",
       "      <td>...</td>\n",
       "      <td>...</td>\n",
       "      <td>...</td>\n",
       "      <td>...</td>\n",
       "    </tr>\n",
       "    <tr>\n",
       "      <th>99983</th>\n",
       "      <td>df5fae90e85354241d5d64a8955b2b09</td>\n",
       "      <td>509b86c65fe4e2ad5b96408cfef9755e</td>\n",
       "      <td>5</td>\n",
       "      <td>NaN</td>\n",
       "      <td>Entregou dentro do prazo. O produto chegou em ...</td>\n",
       "      <td>2018-02-07</td>\n",
       "      <td>2018-02-19 19:47:23</td>\n",
       "      <td>2</td>\n",
       "    </tr>\n",
       "    <tr>\n",
       "      <th>99990</th>\n",
       "      <td>a709d176f59bc3af77f4149c96bae357</td>\n",
       "      <td>d5cb12269711bd1eaf7eed8fd32a7c95</td>\n",
       "      <td>3</td>\n",
       "      <td>NaN</td>\n",
       "      <td>O produto não foi enviado com NF, não existe v...</td>\n",
       "      <td>2018-05-19</td>\n",
       "      <td>2018-05-20 21:51:06</td>\n",
       "      <td>5</td>\n",
       "    </tr>\n",
       "    <tr>\n",
       "      <th>99996</th>\n",
       "      <td>b3de70c89b1510c4cd3d0649fd302472</td>\n",
       "      <td>55d4004744368f5571d1f590031933e4</td>\n",
       "      <td>5</td>\n",
       "      <td>NaN</td>\n",
       "      <td>Excelente mochila, entrega super rápida. Super...</td>\n",
       "      <td>2018-03-22</td>\n",
       "      <td>2018-03-23 09:10:43</td>\n",
       "      <td>3</td>\n",
       "    </tr>\n",
       "    <tr>\n",
       "      <th>99998</th>\n",
       "      <td>be360f18f5df1e0541061c87021e6d93</td>\n",
       "      <td>f8bd3f2000c28c5342fedeb5e50f2e75</td>\n",
       "      <td>1</td>\n",
       "      <td>NaN</td>\n",
       "      <td>Solicitei a compra de uma capa de retrovisor c...</td>\n",
       "      <td>2017-12-15</td>\n",
       "      <td>2017-12-16 01:29:43</td>\n",
       "      <td>12</td>\n",
       "    </tr>\n",
       "    <tr>\n",
       "      <th>99999</th>\n",
       "      <td>efe49f1d6f951dd88b51e6ccd4cc548f</td>\n",
       "      <td>90531360ecb1eec2a1fbb265a0db0508</td>\n",
       "      <td>1</td>\n",
       "      <td>NaN</td>\n",
       "      <td>meu produto chegou e ja tenho que devolver, po...</td>\n",
       "      <td>2017-07-03</td>\n",
       "      <td>2017-07-03 21:01:49</td>\n",
       "      <td>7</td>\n",
       "    </tr>\n",
       "  </tbody>\n",
       "</table>\n",
       "<p>41753 rows × 8 columns</p>\n",
       "</div>"
      ]
     },
     "execution_count": 327,
     "metadata": {},
     "output_type": "execute_result"
    }
   ],
   "execution_count": 327
  },
  {
   "metadata": {
    "ExecuteTime": {
     "end_time": "2024-07-10T18:33:13.883684Z",
     "start_time": "2024-07-10T18:33:13.876483Z"
    }
   },
   "cell_type": "code",
   "source": [
    "def preprocess_text(text):\n",
    "    return text.lower().strip()\n"
   ],
   "id": "479b0efb62d5b382",
   "outputs": [],
   "execution_count": 328
  },
  {
   "metadata": {
    "ExecuteTime": {
     "end_time": "2024-07-10T18:33:13.919948Z",
     "start_time": "2024-07-10T18:33:13.883684Z"
    }
   },
   "cell_type": "code",
   "source": [
    "cleaned_reviews['comment'] = cleaned_reviews['comment'].apply(preprocess_text)\n",
    "cleaned_reviews['comment']"
   ],
   "id": "5314b89e8f0858d5",
   "outputs": [
    {
     "data": {
      "text/plain": [
       "3                    recebi bem antes do prazo estipulado.\n",
       "4        parabéns lojas lannister adorei comprar pela i...\n",
       "9        aparelho eficiente. no site a marca do aparelh...\n",
       "12             mas um pouco ,travando...pelo valor ta boa.\n",
       "15       vendedor confiável, produto ok e entrega antes...\n",
       "                               ...                        \n",
       "99983    entregou dentro do prazo. o produto chegou em ...\n",
       "99990    o produto não foi enviado com nf, não existe v...\n",
       "99996    excelente mochila, entrega super rápida. super...\n",
       "99998    solicitei a compra de uma capa de retrovisor c...\n",
       "99999    meu produto chegou e ja tenho que devolver, po...\n",
       "Name: comment, Length: 41753, dtype: object"
      ]
     },
     "execution_count": 329,
     "metadata": {},
     "output_type": "execute_result"
    }
   ],
   "execution_count": 329
  },
  {
   "metadata": {},
   "cell_type": "markdown",
   "source": "Класифікація настроїв",
   "id": "55d2bf443adb2dee"
  },
  {
   "metadata": {},
   "cell_type": "markdown",
   "source": "Використаємо натреновану модель з модулю transformers для класифікації настроїв",
   "id": "c84020b1365d3499"
  },
  {
   "metadata": {
    "ExecuteTime": {
     "end_time": "2024-07-10T18:33:15.630894Z",
     "start_time": "2024-07-10T18:33:13.919948Z"
    }
   },
   "cell_type": "code",
   "source": [
    "from transformers import pipeline\n",
    "\n",
    "# Завантаження моделі\n",
    "classifier = pipeline('sentiment-analysis', model='nlptown/bert-base-multilingual-uncased-sentiment', device='cpu')\n",
    "\n",
    "\n",
    "def convert_sentiment(label):\n",
    "    if label in ['1 star', '2 stars']:\n",
    "        return 'Negative'\n",
    "    elif label == '3 stars':\n",
    "        return 'Neutral'\n",
    "    else:\n",
    "        return 'Positive'\n",
    "\n",
    "\n",
    "def analyze_sentiment(comment: str, print_: bool=True):\n",
    "    result = classifier(comment)\n",
    "    stars, score = result[0]['label'], result[0]['score']\n",
    "    sentiment = convert_sentiment(stars)\n",
    "    \n",
    "    if print_:\n",
    "        print(f\"Comment: {comment}\"\n",
    "              f\"\\nSentiment: {sentiment} ({stars}, {score})\\n\")\n",
    "    \n",
    "    return sentiment"
   ],
   "id": "fe49da20e55d9afc",
   "outputs": [],
   "execution_count": 330
  },
  {
   "metadata": {
    "ExecuteTime": {
     "end_time": "2024-07-10T18:33:15.825294Z",
     "start_time": "2024-07-10T18:33:15.630894Z"
    }
   },
   "cell_type": "code",
   "source": [
    "# Запустимо модель на тестовому наборі даних\n",
    "\n",
    "test_comments = [\n",
    "    'Vendedor confiável, produto ok e entrega antes do prazo.', # Надійний продавець, хороший товар і доставка вчасно\n",
    "    'É um produto ok, nada de especial.',                       # Хороший продукт, нічого особливого.\n",
    "    'Não gostei ! Comprei gato por lebre',                      # Не сподобалось! Купив порося в мішку\n",
    "]\n",
    "\n",
    "for comment in test_comments:\n",
    "    analyze_sentiment(comment)"
   ],
   "id": "4a2f6b259b48cd0d",
   "outputs": [
    {
     "name": "stdout",
     "output_type": "stream",
     "text": [
      "Comment: Vendedor confiável, produto ok e entrega antes do prazo.\n",
      "Sentiment: Positive (4 stars, 0.4709451198577881)\n",
      "\n",
      "Comment: É um produto ok, nada de especial.\n",
      "Sentiment: Neutral (3 stars, 0.6013073325157166)\n",
      "\n",
      "Comment: Não gostei ! Comprei gato por lebre\n",
      "Sentiment: Negative (1 star, 0.5860903859138489)\n",
      "\n"
     ]
    }
   ],
   "execution_count": 331
  },
  {
   "metadata": {
    "ExecuteTime": {
     "end_time": "2024-07-10T18:33:16.708185Z",
     "start_time": "2024-07-10T18:33:15.825294Z"
    }
   },
   "cell_type": "code",
   "source": [
    "# Проаналізуємо перших 10 коментарів\n",
    "for comment in cleaned_reviews['comment'][:10]:\n",
    "    analyze_sentiment(comment)"
   ],
   "id": "ad2fcddfd329d999",
   "outputs": [
    {
     "name": "stdout",
     "output_type": "stream",
     "text": [
      "Comment: recebi bem antes do prazo estipulado.\n",
      "Sentiment: Neutral (3 stars, 0.3998761475086212)\n",
      "\n",
      "Comment: parabéns lojas lannister adorei comprar pela internet seguro e prático parabéns a todos feliz páscoa\n",
      "Sentiment: Positive (5 stars, 0.5380740761756897)\n",
      "\n",
      "Comment: aparelho eficiente. no site a marca do aparelho esta impresso como 3desinfector e ao chegar esta com outro nome...atualizar com a marca correta uma vez que é o mesmo aparelho\n",
      "Sentiment: Neutral (3 stars, 0.36108896136283875)\n",
      "\n",
      "Comment: mas um pouco ,travando...pelo valor ta boa.\n",
      "Sentiment: Neutral (3 stars, 0.6547532081604004)\n",
      "\n",
      "Comment: vendedor confiável, produto ok e entrega antes do prazo.\n",
      "Sentiment: Positive (4 stars, 0.4709451198577881)\n",
      "\n",
      "Comment: gostaria de saber o que houve, sempre recebi e essa compra agora me decpcionou\n",
      "Sentiment: Negative (1 star, 0.36002612113952637)\n",
      "\n",
      "Comment: péssimo\n",
      "Sentiment: Negative (1 star, 0.9557668566703796)\n",
      "\n",
      "Comment: loja nota 10\n",
      "Sentiment: Positive (5 stars, 0.4426158666610718)\n",
      "\n",
      "Comment: obrigado pela atençao amim dispensada\n",
      "Sentiment: Negative (1 star, 0.44497936964035034)\n",
      "\n",
      "Comment: a compra foi realizada facilmente.\r\n",
      "a entrega foi efetuada muito antes do prazo dado.\r\n",
      "o produto já começou a ser usado e até o presente,\r\n",
      "sem problemas.\n",
      "Sentiment: Positive (5 stars, 0.5542588233947754)\n",
      "\n"
     ]
    }
   ],
   "execution_count": 332
  },
  {
   "metadata": {
    "ExecuteTime": {
     "end_time": "2024-07-10T18:33:16.712882Z",
     "start_time": "2024-07-10T18:33:16.708185Z"
    }
   },
   "cell_type": "code",
   "source": [
    "def analyze_comments(comment_series):\n",
    "    return [analyze_sentiment(comment, print_=False) for comment in comment_series]\n",
    "\n",
    "\n",
    "sentiments_list = analyze_comments(cleaned_reviews['comment'][:1000])"
   ],
   "id": "b1c89fc9648ac078",
   "outputs": [],
   "execution_count": 333
  },
  {
   "metadata": {},
   "cell_type": "markdown",
   "source": "",
   "id": "a285e0c1259b3576"
  },
  {
   "metadata": {
    "ExecuteTime": {
     "end_time": "2024-07-10T18:33:16.792825Z",
     "start_time": "2024-07-10T18:33:16.712882Z"
    }
   },
   "cell_type": "code",
   "source": [
    "sentiment_counts = pd.Series(sentiments_list).value_counts()\n",
    "\n",
    "plt.figure(figsize=(8, 8))\n",
    "plt.pie(sentiment_counts, labels=sentiment_counts.index, autopct='%1.1f%%', colors=['lightgreen', 'lightcoral', 'lightskyblue'], startangle=140)\n",
    "plt.title('Sentiment Distribution')\n",
    "plt.axis('equal')  \n",
    "plt.show()"
   ],
   "id": "d591714c50101c8c",
   "outputs": [
    {
     "data": {
      "text/plain": [
       "<Figure size 800x800 with 1 Axes>"
      ],
      "image/png": "[encoded data removed]"
     },
     "metadata": {},
     "output_type": "display_data"
    }
   ],
   "execution_count": 334
  },
  {
   "metadata": {},
   "cell_type": "markdown",
   "source": "Знаходження ціни з коментарів",
   "id": "e297b40dde69e72"
  },
  {
   "metadata": {
    "ExecuteTime": {
     "end_time": "2024-07-10T18:33:16.798552Z",
     "start_time": "2024-07-10T18:33:16.792825Z"
    }
   },
   "cell_type": "code",
   "source": [
    "import re\n",
    "\n",
    "\n",
    "def extract_price(comment):\n",
    "    # Регулярний вираз для знаходження цін \n",
    "    price_pattern = re.compile(r'(?<!\\w)(?:R\\$|r\\$|\\$)\\s*\\d{1,3}(?:[.,]\\d{3})*(?:[.,]\\d{2})')\n",
    "    \n",
    "    # Знаходження всіх збігів у коментарі\n",
    "    matches = price_pattern.findall(comment)\n",
    "    \n",
    "    if matches:\n",
    "        return matches[0]\n",
    "    "
   ],
   "id": "697a1b91bd410e4d",
   "outputs": [],
   "execution_count": 335
  },
  {
   "metadata": {
    "ExecuteTime": {
     "end_time": "2024-07-10T18:33:16.804001Z",
     "start_time": "2024-07-10T18:33:16.798552Z"
    }
   },
   "cell_type": "code",
   "source": [
    "test_money_comments = [\n",
    "        'Este produto custa $10.50 e é ótimo! $15',\n",
    "        'Preço: r$20,30 reais, não gostei.',\n",
    "        'Custa R$ 45.13 , muito caro.'\n",
    "    ]\n"
   ],
   "id": "c7abea09215bc95a",
   "outputs": [],
   "execution_count": 336
  },
  {
   "metadata": {
    "ExecuteTime": {
     "end_time": "2024-07-10T18:33:16.809073Z",
     "start_time": "2024-07-10T18:33:16.804001Z"
    }
   },
   "cell_type": "code",
   "source": [
    "for comm in test_money_comments:\n",
    "    print(extract_price(comm))"
   ],
   "id": "9dd15f766788e18d",
   "outputs": [
    {
     "name": "stdout",
     "output_type": "stream",
     "text": [
      "$10.50\n",
      "r$20,30\n",
      "R$ 45.13\n"
     ]
    }
   ],
   "execution_count": 337
  },
  {
   "metadata": {
    "ExecuteTime": {
     "end_time": "2024-07-10T18:33:16.889857Z",
     "start_time": "2024-07-10T18:33:16.809073Z"
    }
   },
   "cell_type": "code",
   "source": [
    "comments_with_digits = cleaned_reviews[cleaned_reviews['comment'].str.contains('\\d+')]\n",
    "comments_with_digits"
   ],
   "id": "8df2331e244afaa6",
   "outputs": [
    {
     "data": {
      "text/plain": [
       "                              review_id                          order_id  \\\n",
       "9      8670d52e15e00043ae7de4c01cc2fe06  b9bf720beb4ab3728760088589c62129   \n",
       "22     d21bbc789670eab777d27372ab9094cc  4fc44d78867142c627497b60a7e0228a   \n",
       "51     e233e51d11511bf30e568c76360ace52  548df2c6e5f089574614894bca78acf5   \n",
       "115    ae728c1061bf163b4bd256ad9ee0bb83  45c780334bc32cb77559a65c5f171160   \n",
       "168    d7ea05bb4f9c77d606fd90b1a27e317d  bb5b0d8f3e9c964760c674f2aa2ae0cf   \n",
       "...                                 ...                               ...   \n",
       "99843  970ae7c9df61910a0a30c38670db7ae5  b7e332393b5e64cdc10d308c971a41c4   \n",
       "99916  9ed2a6bc2282fd2b0105055631afa57f  a7db1b7bfec5e83a8fd33625e99f0d15   \n",
       "99930  2fc8295a24978092328d3a329d22940e  e809c167a9cfd31aee1293abe8995065   \n",
       "99972  51de4e06a6b701cb2be47ea0e689437b  b7467ae483dbe956fe9acdf0b1e6e3f4   \n",
       "99978  5085bc489aa6b58a29c4f922d59ff826  18ed848509774f56cc8c1c0a1903ad7f   \n",
       "\n",
       "       review_score                      title  \\\n",
       "9                 4                  recomendo   \n",
       "22                5                      ótimo   \n",
       "51                1                        NaN   \n",
       "115               1                        NaN   \n",
       "168               1                        NaN   \n",
       "...             ...                        ...   \n",
       "99843             3                        NaN   \n",
       "99916             1                        NaN   \n",
       "99930             1                        NaN   \n",
       "99972             3  não foi entregue o pedido   \n",
       "99978             2                        NaN   \n",
       "\n",
       "                                                 comment creation_date  \\\n",
       "9      aparelho eficiente. no site a marca do aparelh...    2018-05-22   \n",
       "22                                          loja nota 10    2018-07-10   \n",
       "51     recebi somente 1 controle midea split estilo.\\...    2018-01-28   \n",
       "115    este foi o pedido\\r\\nbalde com 128 peças - blo...    2018-01-04   \n",
       "168    comprei o produto dia 25 de fevereiro e hoje d...    2018-03-29   \n",
       "...                                                  ...           ...   \n",
       "99843  teve um probleminha minha pasta multiuso pra n...    2018-08-28   \n",
       "99916  ate hoje dia 21/10/2017 o pedido não foi entre...    2017-10-21   \n",
       "99930  eu recebi o seguinte email e preciso saber com...    2018-02-09   \n",
       "99972  bom dia \\r\\ndas 6 unidades compradas só recebi...    2018-06-05   \n",
       "99978  tive um problema na entrega em que o correio c...    2018-02-21   \n",
       "\n",
       "      review_answer_timestamp  month  \n",
       "9         2018-05-23 16:45:47      5  \n",
       "22        2018-07-11 14:10:25      7  \n",
       "51        2018-02-04 11:06:15      1  \n",
       "115       2018-01-10 09:52:57      1  \n",
       "168       2018-03-29 23:13:58      3  \n",
       "...                       ...    ...  \n",
       "99843     2018-08-30 16:53:31      8  \n",
       "99916     2017-10-21 18:51:37     10  \n",
       "99930     2018-02-13 13:03:24      2  \n",
       "99972     2018-06-06 10:52:19      6  \n",
       "99978     2018-02-23 11:43:12      2  \n",
       "\n",
       "[4369 rows x 8 columns]"
      ],
      "text/html": [
       "<div>\n",
       "<style scoped>\n",
       "    .dataframe tbody tr th:only-of-type {\n",
       "        vertical-align: middle;\n",
       "    }\n",
       "\n",
       "    .dataframe tbody tr th {\n",
       "        vertical-align: top;\n",
       "    }\n",
       "\n",
       "    .dataframe thead th {\n",
       "        text-align: right;\n",
       "    }\n",
       "</style>\n",
       "<table border=\"1\" class=\"dataframe\">\n",
       "  <thead>\n",
       "    <tr style=\"text-align: right;\">\n",
       "      <th></th>\n",
       "      <th>review_id</th>\n",
       "      <th>order_id</th>\n",
       "      <th>review_score</th>\n",
       "      <th>title</th>\n",
       "      <th>comment</th>\n",
       "      <th>creation_date</th>\n",
       "      <th>review_answer_timestamp</th>\n",
       "      <th>month</th>\n",
       "    </tr>\n",
       "  </thead>\n",
       "  <tbody>\n",
       "    <tr>\n",
       "      <th>9</th>\n",
       "      <td>8670d52e15e00043ae7de4c01cc2fe06</td>\n",
       "      <td>b9bf720beb4ab3728760088589c62129</td>\n",
       "      <td>4</td>\n",
       "      <td>recomendo</td>\n",
       "      <td>aparelho eficiente. no site a marca do aparelh...</td>\n",
       "      <td>2018-05-22</td>\n",
       "      <td>2018-05-23 16:45:47</td>\n",
       "      <td>5</td>\n",
       "    </tr>\n",
       "    <tr>\n",
       "      <th>22</th>\n",
       "      <td>d21bbc789670eab777d27372ab9094cc</td>\n",
       "      <td>4fc44d78867142c627497b60a7e0228a</td>\n",
       "      <td>5</td>\n",
       "      <td>ótimo</td>\n",
       "      <td>loja nota 10</td>\n",
       "      <td>2018-07-10</td>\n",
       "      <td>2018-07-11 14:10:25</td>\n",
       "      <td>7</td>\n",
       "    </tr>\n",
       "    <tr>\n",
       "      <th>51</th>\n",
       "      <td>e233e51d11511bf30e568c76360ace52</td>\n",
       "      <td>548df2c6e5f089574614894bca78acf5</td>\n",
       "      <td>1</td>\n",
       "      <td>NaN</td>\n",
       "      <td>recebi somente 1 controle midea split estilo.\\...</td>\n",
       "      <td>2018-01-28</td>\n",
       "      <td>2018-02-04 11:06:15</td>\n",
       "      <td>1</td>\n",
       "    </tr>\n",
       "    <tr>\n",
       "      <th>115</th>\n",
       "      <td>ae728c1061bf163b4bd256ad9ee0bb83</td>\n",
       "      <td>45c780334bc32cb77559a65c5f171160</td>\n",
       "      <td>1</td>\n",
       "      <td>NaN</td>\n",
       "      <td>este foi o pedido\\r\\nbalde com 128 peças - blo...</td>\n",
       "      <td>2018-01-04</td>\n",
       "      <td>2018-01-10 09:52:57</td>\n",
       "      <td>1</td>\n",
       "    </tr>\n",
       "    <tr>\n",
       "      <th>168</th>\n",
       "      <td>d7ea05bb4f9c77d606fd90b1a27e317d</td>\n",
       "      <td>bb5b0d8f3e9c964760c674f2aa2ae0cf</td>\n",
       "      <td>1</td>\n",
       "      <td>NaN</td>\n",
       "      <td>comprei o produto dia 25 de fevereiro e hoje d...</td>\n",
       "      <td>2018-03-29</td>\n",
       "      <td>2018-03-29 23:13:58</td>\n",
       "      <td>3</td>\n",
       "    </tr>\n",
       "    <tr>\n",
       "      <th>...</th>\n",
       "      <td>...</td>\n",
       "      <td>...</td>\n",
       "      <td>...</td>\n",
       "      <td>...</td>\n",
       "      <td>...</td>\n",
       "      <td>...</td>\n",
       "      <td>...</td>\n",
       "      <td>...</td>\n",
       "    </tr>\n",
       "    <tr>\n",
       "      <th>99843</th>\n",
       "      <td>970ae7c9df61910a0a30c38670db7ae5</td>\n",
       "      <td>b7e332393b5e64cdc10d308c971a41c4</td>\n",
       "      <td>3</td>\n",
       "      <td>NaN</td>\n",
       "      <td>teve um probleminha minha pasta multiuso pra n...</td>\n",
       "      <td>2018-08-28</td>\n",
       "      <td>2018-08-30 16:53:31</td>\n",
       "      <td>8</td>\n",
       "    </tr>\n",
       "    <tr>\n",
       "      <th>99916</th>\n",
       "      <td>9ed2a6bc2282fd2b0105055631afa57f</td>\n",
       "      <td>a7db1b7bfec5e83a8fd33625e99f0d15</td>\n",
       "      <td>1</td>\n",
       "      <td>NaN</td>\n",
       "      <td>ate hoje dia 21/10/2017 o pedido não foi entre...</td>\n",
       "      <td>2017-10-21</td>\n",
       "      <td>2017-10-21 18:51:37</td>\n",
       "      <td>10</td>\n",
       "    </tr>\n",
       "    <tr>\n",
       "      <th>99930</th>\n",
       "      <td>2fc8295a24978092328d3a329d22940e</td>\n",
       "      <td>e809c167a9cfd31aee1293abe8995065</td>\n",
       "      <td>1</td>\n",
       "      <td>NaN</td>\n",
       "      <td>eu recebi o seguinte email e preciso saber com...</td>\n",
       "      <td>2018-02-09</td>\n",
       "      <td>2018-02-13 13:03:24</td>\n",
       "      <td>2</td>\n",
       "    </tr>\n",
       "    <tr>\n",
       "      <th>99972</th>\n",
       "      <td>51de4e06a6b701cb2be47ea0e689437b</td>\n",
       "      <td>b7467ae483dbe956fe9acdf0b1e6e3f4</td>\n",
       "      <td>3</td>\n",
       "      <td>não foi entregue o pedido</td>\n",
       "      <td>bom dia \\r\\ndas 6 unidades compradas só recebi...</td>\n",
       "      <td>2018-06-05</td>\n",
       "      <td>2018-06-06 10:52:19</td>\n",
       "      <td>6</td>\n",
       "    </tr>\n",
       "    <tr>\n",
       "      <th>99978</th>\n",
       "      <td>5085bc489aa6b58a29c4f922d59ff826</td>\n",
       "      <td>18ed848509774f56cc8c1c0a1903ad7f</td>\n",
       "      <td>2</td>\n",
       "      <td>NaN</td>\n",
       "      <td>tive um problema na entrega em que o correio c...</td>\n",
       "      <td>2018-02-21</td>\n",
       "      <td>2018-02-23 11:43:12</td>\n",
       "      <td>2</td>\n",
       "    </tr>\n",
       "  </tbody>\n",
       "</table>\n",
       "<p>4369 rows × 8 columns</p>\n",
       "</div>"
      ]
     },
     "execution_count": 338,
     "metadata": {},
     "output_type": "execute_result"
    }
   ],
   "execution_count": 338
  },
  {
   "metadata": {
    "ExecuteTime": {
     "end_time": "2024-07-10T18:33:16.896955Z",
     "start_time": "2024-07-10T18:33:16.890863Z"
    }
   },
   "cell_type": "code",
   "source": [
    "data = '\\n'.join(comments_with_digits['comment'][500:1500])\n",
    "\n",
    "with open('data.txt', 'w', encoding='utf-8') as f:\n",
    "    f.write(data)"
   ],
   "id": "3b2cd37846b98a7a",
   "outputs": [],
   "execution_count": 339
  },
  {
   "metadata": {
    "ExecuteTime": {
     "end_time": "2024-07-10T18:33:16.924523Z",
     "start_time": "2024-07-10T18:33:16.896955Z"
    }
   },
   "cell_type": "code",
   "source": [
    "for comm in comments_with_digits['comment']:\n",
    "    price = extract_price(comm)\n",
    "    if price:\n",
    "        print(comm)\n",
    "        print(f'Price: {price}')\n",
    "        print()"
   ],
   "id": "50e8e982d985755c",
   "outputs": [
    {
     "name": "stdout",
     "output_type": "stream",
     "text": [
      "este foi o pedido\r\n",
      "balde com 128 peças - blocos de montar 2 un - r$ 25,00 cada (não foi entregue)\r\n",
      "vendido e entregue targaryen\r\n",
      "tapete de eva nº letras 36 peças crianças 1 un - r$ 35,90 (este foi entreg\n",
      "Price: r$ 25,00\n",
      "\n",
      "comprei 4 produtos, sendo que só recebi 3. faltou um lençol branco sem elástico. foi quase r$ 100,00. e como eu fico? no prejuizo?\n",
      "Price: r$ 100,00\n",
      "\n",
      "relógio belíssimo, muito elegante, inacreditável diante do valor de menos de r$ 150,00! veio muito bem embrulhado e protegido, fora que tem também caixa muito chique, como se fosse jóia!!! recomendo\n",
      "Price: r$ 150,00\n",
      "\n",
      "entrega super rápida. quanto ao produto, não gostei tanto, imaginei que seria melhor e mais bonito, se tivesse visto em uma loja, pegado em mãos antes não teria pagado r$21,90 não, mas ok.\n",
      "Price: r$21,90\n",
      "\n",
      "pedi hd 500 gb sata notebook samsung r520\r\n",
      "\r\n",
      "1 unidade - r$ 269,00 cada\r\n",
      "\r\n",
      " \r\n",
      "e recebi hdd 2,5 notebook / desktop seagate st500lm030 barracuda 500gb 5400rpm 128mb sata 6gb/s\n",
      "Price: r$ 269,00\n",
      "\n",
      "pagamos caro para receber em casa (frete de r$95,00) e ainda não recebi o produto, não consigo retirar nos correios pois não deixaram o papel de retirada na minha casa. insatisfeita!!!!!\n",
      "Price: r$95,00\n",
      "\n",
      "valor do produto no site $175,00 mais frete de 12,73.....emitiram nota fiscal no valor de $ 137,00....inferior ao valor do site...por que?\n",
      "Price: $175,00\n",
      "\n",
      "paguei a mais por que queria dar um prsente ao meu filho, um rapaz.. quando entregaram lá foi na cor dourada que no dia em que comprei era de +ou - r$ 100,00 mais barato e não era a cor que escolhi.\n",
      "Price: r$ 100,00\n",
      "\n",
      "aguardo solução protocolo sobre valor de compra divergente da empresa stark. valor da compra cobrado a vista de r$352,95 e na fatura cobrado a mais em r$381,25\n",
      "Price: r$352,95\n",
      "\n",
      "eu não recebi os dois produtos falta \r\n",
      "kit tapetes para cozinha 3 peças pintado à mão - cru\r\n",
      "1 unidade - r$ 35,00 cada\n",
      "Price: r$ 35,00\n",
      "\n",
      "o produto demorou muito para chegaro q não é comum tratando-se de lannister.com já conheciaa escovae não entendo pq tem preços disparatados como os que paguei. r$ 128, r$50,00, r$55, etc+ frete.\n",
      "Price: r$50,00\n",
      "\n",
      "fiz a compra de 2 pneus e faturou somente 1, paguei r$525,00 sendo que no site das lannister o mesmo pneu custa r$305,00, preciso de um retorno pois paguei a mais do que vale...\r\n",
      "aguardo retorno.\n",
      "Price: r$525,00\n",
      "\n",
      "comprei 2 luminárias cód 31971204 no valor r$44,90 (hoje $56,60) cada e recebi 2 luminárias cód 32238771, valor r$33,90 cada (hoje $37,95). solicito o ressarcimento da diferença ou o produto correto.\n",
      "Price: r$44,90\n",
      "\n",
      "tive que ir aos correios para retirar meu produto, sendo que paguei o frete de r$ 7,52, os quais requeiro o seu reembolso, como medida da mais lídima justiça!\n",
      "Price: r$ 7,52\n",
      "\n",
      "faltou o kit do teflon que foi cobrado $10,00 a mais.\n",
      "Price: $10,00\n",
      "\n",
      "não recebi o produto e ainda não tive nenhuma resposta da minha reclamação. e o pior é que seria presente de 1 ano do avô da criança, o qual pagou mais de r$500,00 pela mesma.\n",
      "Price: r$500,00\n",
      "\n",
      "meu produto veio errado.\r\n",
      "\r\n",
      "paguei casal king r$ 99,00 - nâo casal padrao. quero troca urgente.\n",
      "Price: r$ 99,00\n",
      "\n",
      "muito decepcionada, a compra foi efetuado dia 07/11 e até o momento 09/12 não recebi nenhuma notificação sobre o produto comprado cujo o código do pedido é 03496111588 pagto r$ 104,63.\n",
      "Price: r$ 104,63\n",
      "\n",
      "recebi o produto correto, porém o valor do produto na nf ficou a menor, r$ 172,00 sendo que comprei a 219,90.\r\n",
      "o valor do frete calculado foi r$ 18,90 e veio r$ 93,00.\r\n",
      "gostaria que viesse com correto\n",
      "Price: r$ 172,00\n",
      "\n",
      "eu estou puto dá vida, pois comprei uma creatina universal na promoção 200g+200g grátis no valor de r$69,90. daí eu aumentei a compra para 2 itens, ou seja, chegaria 4 unidades. daí chegou só 2.\n",
      "Price: r$69,90\n",
      "\n",
      "comorei 4 vidros de vitamina d3 paguei um frete caro e só recebi 3 vidros. quero receber o quarto que tudo custou r$ 260,00\n",
      "Price: r$ 260,00\n",
      "\n",
      "embora tenha pago r$88,46 (2 relógios e frete) só recebi um. espero q vcs averiguem e me informem. continuo aguardando\n",
      "Price: r$88,46\n",
      "\n",
      "óculos e um pouco fino a armação.\r\n",
      "mais o mesmo na loja onde fui ver estava r$380,00\r\n",
      "então estou no lucro a empresa entregou no prazo.\n",
      "Price: r$380,00\n",
      "\n",
      "só gostaria de saber porque foi cobrado um frete no valor de r$ 54,40?\n",
      "Price: r$ 54,40\n",
      "\n",
      "meu produto veio errado.\r\n",
      "\r\n",
      "paguei casal king r$ 99,00 - nâo casal padrao. quero troca urgente.\n",
      "Price: r$ 99,00\n",
      "\n",
      "paguei $48,00 reais de frete e acabei tendo que buscar o pedido no centro de distribuição dos correios, porém a loja nada tem a ver com o mal serviço prestado pela empresa contrata para entrega.\n",
      "Price: $48,00\n",
      "\n",
      "infelizmente, para uma entrega em gru (região metropolitana da grande sp) achei bem \"salgado\" o valor do frete cobrado sobre o preço do produto! afinal, a mercadoria custou r$26,70 + r$15,11 de frete!\n",
      "Price: r$26,70\n",
      "\n",
      "falta de atenção descreve o vendedor.\r\n",
      "os itens não estavam de acordo com o anúncio.\r\n",
      "quero o dinheiro de volta acrescido de r$20,20 da postagem que tive que pagar.\n",
      "Price: r$20,20\n",
      "\n",
      "adquiri o aparador de pelos seco & molhado bg2024/15 bivolt - philips, no valor de r$ 257,87. entretanto, recebi em minha residência o aparador de pelos philips qt4015/15, que no próprio site american\n",
      "Price: r$ 257,87\n",
      "\n"
     ]
    }
   ],
   "execution_count": 340
  }
 ],
 "metadata": {
  "kernelspec": {
   "display_name": "Python 3",
   "language": "python",
   "name": "python3"
  },
  "language_info": {
   "codemirror_mode": {
    "name": "ipython",
    "version": 2
   },
   "file_extension": ".py",
   "mimetype": "text/x-python",
   "name": "python",
   "nbconvert_exporter": "python",
   "pygments_lexer": "ipython2",
   "version": "2.7.6"
  }
 },
 "nbformat": 4,
 "nbformat_minor": 5
}
